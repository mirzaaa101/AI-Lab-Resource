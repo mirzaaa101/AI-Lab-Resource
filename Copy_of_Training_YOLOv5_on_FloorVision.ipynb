{
  "nbformat": 4,
  "nbformat_minor": 0,
  "metadata": {
    "colab": {
      "provenance": [],
      "gpuType": "T4",
      "authorship_tag": "ABX9TyP/QOyeH/xFbvsaS3BNcKbZ",
      "include_colab_link": true
    },
    "kernelspec": {
      "name": "python3",
      "display_name": "Python 3"
    },
    "language_info": {
      "name": "python"
    },
    "accelerator": "GPU"
  },
  "cells": [
    {
      "cell_type": "markdown",
      "metadata": {
        "id": "view-in-github",
        "colab_type": "text"
      },
      "source": [
        "<a href=\"https://colab.research.google.com/github/mirzaaa101/AI-Lab-Resource/blob/main/Copy_of_Training_YOLOv5_on_FloorVision.ipynb\" target=\"_parent\"><img src=\"https://colab.research.google.com/assets/colab-badge.svg\" alt=\"Open In Colab\"/></a>"
      ]
    },
    {
      "cell_type": "code",
      "execution_count": null,
      "metadata": {
        "colab": {
          "base_uri": "https://localhost:8080/"
        },
        "id": "F3m49t1Glahh",
        "outputId": "697b1ec2-5836-446d-c7f5-871a6e96a503"
      },
      "outputs": [
        {
          "output_type": "stream",
          "name": "stdout",
          "text": [
            "Cloning into 'yolov5'...\n",
            "remote: Enumerating objects: 16522, done.\u001b[K\n",
            "remote: Counting objects: 100% (120/120), done.\u001b[K\n",
            "remote: Compressing objects: 100% (104/104), done.\u001b[K\n",
            "remote: Total 16522 (delta 50), reused 52 (delta 16), pack-reused 16402\u001b[K\n",
            "Receiving objects: 100% (16522/16522), 15.17 MiB | 17.41 MiB/s, done.\n",
            "Resolving deltas: 100% (11307/11307), done.\n",
            "/content/yolov5\n",
            "HEAD is now at fbe67e46 Fix `OMP_NUM_THREADS=1` for macOS (#8624)\n"
          ]
        }
      ],
      "source": [
        "# clone YOLOv5 repository\n",
        "!git clone https://github.com/ultralytics/yolov5\n",
        "%cd yolov5\n",
        "!git reset --hard fbe67e465375231474a2ad80a4389efc77ecff99"
      ]
    },
    {
      "cell_type": "code",
      "source": [
        "# install dependencies as necessary\n",
        "!pip install -qr requirements.txt"
      ],
      "metadata": {
        "colab": {
          "base_uri": "https://localhost:8080/"
        },
        "id": "MCfmcL5zlrp9",
        "outputId": "c866222a-19b1-4082-902d-49a9dd0340c9"
      },
      "execution_count": null,
      "outputs": [
        {
          "output_type": "stream",
          "name": "stdout",
          "text": [
            "\u001b[2K     \u001b[90m━━━━━━━━━━━━━━━━━━━━━━━━━━━━━━━━━━━━━━━━\u001b[0m \u001b[32m23.7/23.7 MB\u001b[0m \u001b[31m13.0 MB/s\u001b[0m eta \u001b[36m0:00:00\u001b[0m\n",
            "\u001b[2K     \u001b[90m━━━━━━━━━━━━━━━━━━━━━━━━━━━━━━━━━━━━━━━━\u001b[0m \u001b[32m823.6/823.6 kB\u001b[0m \u001b[31m28.9 MB/s\u001b[0m eta \u001b[36m0:00:00\u001b[0m\n",
            "\u001b[2K     \u001b[90m━━━━━━━━━━━━━━━━━━━━━━━━━━━━━━━━━━━━━━━━\u001b[0m \u001b[32m14.1/14.1 MB\u001b[0m \u001b[31m13.6 MB/s\u001b[0m eta \u001b[36m0:00:00\u001b[0m\n",
            "\u001b[2K     \u001b[90m━━━━━━━━━━━━━━━━━━━━━━━━━━━━━━━━━━━━━━━━\u001b[0m \u001b[32m731.7/731.7 MB\u001b[0m \u001b[31m1.9 MB/s\u001b[0m eta \u001b[36m0:00:00\u001b[0m\n",
            "\u001b[2K     \u001b[90m━━━━━━━━━━━━━━━━━━━━━━━━━━━━━━━━━━━━━━━━\u001b[0m \u001b[32m410.6/410.6 MB\u001b[0m \u001b[31m3.2 MB/s\u001b[0m eta \u001b[36m0:00:00\u001b[0m\n",
            "\u001b[2K     \u001b[90m━━━━━━━━━━━━━━━━━━━━━━━━━━━━━━━━━━━━━━━━\u001b[0m \u001b[32m121.6/121.6 MB\u001b[0m \u001b[31m8.4 MB/s\u001b[0m eta \u001b[36m0:00:00\u001b[0m\n",
            "\u001b[2K     \u001b[90m━━━━━━━━━━━━━━━━━━━━━━━━━━━━━━━━━━━━━━━━\u001b[0m \u001b[32m56.5/56.5 MB\u001b[0m \u001b[31m11.2 MB/s\u001b[0m eta \u001b[36m0:00:00\u001b[0m\n",
            "\u001b[2K     \u001b[90m━━━━━━━━━━━━━━━━━━━━━━━━━━━━━━━━━━━━━━━━\u001b[0m \u001b[32m124.2/124.2 MB\u001b[0m \u001b[31m7.4 MB/s\u001b[0m eta \u001b[36m0:00:00\u001b[0m\n",
            "\u001b[2K     \u001b[90m━━━━━━━━━━━━━━━━━━━━━━━━━━━━━━━━━━━━━━━━\u001b[0m \u001b[32m196.0/196.0 MB\u001b[0m \u001b[31m2.3 MB/s\u001b[0m eta \u001b[36m0:00:00\u001b[0m\n",
            "\u001b[2K     \u001b[90m━━━━━━━━━━━━━━━━━━━━━━━━━━━━━━━━━━━━━━━━\u001b[0m \u001b[32m166.0/166.0 MB\u001b[0m \u001b[31m5.4 MB/s\u001b[0m eta \u001b[36m0:00:00\u001b[0m\n",
            "\u001b[2K     \u001b[90m━━━━━━━━━━━━━━━━━━━━━━━━━━━━━━━━━━━━━━━━\u001b[0m \u001b[32m99.1/99.1 kB\u001b[0m \u001b[31m12.4 MB/s\u001b[0m eta \u001b[36m0:00:00\u001b[0m\n",
            "\u001b[2K     \u001b[90m━━━━━━━━━━━━━━━━━━━━━━━━━━━━━━━━━━━━━━━━\u001b[0m \u001b[32m21.1/21.1 MB\u001b[0m \u001b[31m63.3 MB/s\u001b[0m eta \u001b[36m0:00:00\u001b[0m\n",
            "\u001b[2K     \u001b[90m━━━━━━━━━━━━━━━━━━━━━━━━━━━━━━━━━━━━━━━━\u001b[0m \u001b[32m1.6/1.6 MB\u001b[0m \u001b[31m60.3 MB/s\u001b[0m eta \u001b[36m0:00:00\u001b[0m\n",
            "\u001b[?25h"
          ]
        }
      ]
    },
    {
      "cell_type": "code",
      "source": [
        "import torch\n",
        "from IPython.display import Image, clear_output\n",
        "from utils.downloads import attempt_download\n",
        "\n",
        "print('torch %s %s' % (torch.__version__, torch.cuda.get_device_properties(0) if torch.cuda.is_available() else 'CPU'))"
      ],
      "metadata": {
        "colab": {
          "base_uri": "https://localhost:8080/"
        },
        "id": "Cq5tDbSSmHW1",
        "outputId": "0e223f8d-cf0c-492b-dbf1-87f33a0121aa"
      },
      "execution_count": null,
      "outputs": [
        {
          "output_type": "stream",
          "name": "stdout",
          "text": [
            "torch 2.2.1+cu121 CPU\n"
          ]
        }
      ]
    },
    {
      "cell_type": "code",
      "source": [
        "!pip install roboflow"
      ],
      "metadata": {
        "colab": {
          "base_uri": "https://localhost:8080/",
          "height": 1000
        },
        "id": "3w2-_zsDqdLk",
        "outputId": "5a51b5db-9aff-4b46-bbd1-176b6d9129f6"
      },
      "execution_count": null,
      "outputs": [
        {
          "output_type": "stream",
          "name": "stdout",
          "text": [
            "Collecting roboflow\n",
            "  Downloading roboflow-1.1.26-py3-none-any.whl (71 kB)\n",
            "\u001b[2K     \u001b[90m━━━━━━━━━━━━━━━━━━━━━━━━━━━━━━━━━━━━━━━━\u001b[0m \u001b[32m72.0/72.0 kB\u001b[0m \u001b[31m1.6 MB/s\u001b[0m eta \u001b[36m0:00:00\u001b[0m\n",
            "\u001b[?25hCollecting certifi==2023.7.22 (from roboflow)\n",
            "  Downloading certifi-2023.7.22-py3-none-any.whl (158 kB)\n",
            "\u001b[2K     \u001b[90m━━━━━━━━━━━━━━━━━━━━━━━━━━━━━━━━━━━━━━━━\u001b[0m \u001b[32m158.3/158.3 kB\u001b[0m \u001b[31m4.1 MB/s\u001b[0m eta \u001b[36m0:00:00\u001b[0m\n",
            "\u001b[?25hCollecting chardet==4.0.0 (from roboflow)\n",
            "  Downloading chardet-4.0.0-py2.py3-none-any.whl (178 kB)\n",
            "\u001b[2K     \u001b[90m━━━━━━━━━━━━━━━━━━━━━━━━━━━━━━━━━━━━━━━━\u001b[0m \u001b[32m178.7/178.7 kB\u001b[0m \u001b[31m5.4 MB/s\u001b[0m eta \u001b[36m0:00:00\u001b[0m\n",
            "\u001b[?25hCollecting cycler==0.10.0 (from roboflow)\n",
            "  Downloading cycler-0.10.0-py2.py3-none-any.whl (6.5 kB)\n",
            "Collecting idna==2.10 (from roboflow)\n",
            "  Downloading idna-2.10-py2.py3-none-any.whl (58 kB)\n",
            "\u001b[2K     \u001b[90m━━━━━━━━━━━━━━━━━━━━━━━━━━━━━━━━━━━━━━━━\u001b[0m \u001b[32m58.8/58.8 kB\u001b[0m \u001b[31m5.5 MB/s\u001b[0m eta \u001b[36m0:00:00\u001b[0m\n",
            "\u001b[?25hRequirement already satisfied: kiwisolver>=1.3.1 in /usr/local/lib/python3.10/dist-packages (from roboflow) (1.4.5)\n",
            "Requirement already satisfied: matplotlib in /usr/local/lib/python3.10/dist-packages (from roboflow) (3.7.1)\n",
            "Requirement already satisfied: numpy>=1.18.5 in /usr/local/lib/python3.10/dist-packages (from roboflow) (1.25.2)\n",
            "Collecting opencv-python-headless==4.8.0.74 (from roboflow)\n",
            "  Downloading opencv_python_headless-4.8.0.74-cp37-abi3-manylinux_2_17_x86_64.manylinux2014_x86_64.whl (49.1 MB)\n",
            "\u001b[2K     \u001b[90m━━━━━━━━━━━━━━━━━━━━━━━━━━━━━━━━━━━━━━━━\u001b[0m \u001b[32m49.1/49.1 MB\u001b[0m \u001b[31m10.7 MB/s\u001b[0m eta \u001b[36m0:00:00\u001b[0m\n",
            "\u001b[?25hRequirement already satisfied: Pillow>=7.1.2 in /usr/local/lib/python3.10/dist-packages (from roboflow) (9.4.0)\n",
            "Requirement already satisfied: python-dateutil in /usr/local/lib/python3.10/dist-packages (from roboflow) (2.8.2)\n",
            "Collecting python-dotenv (from roboflow)\n",
            "  Downloading python_dotenv-1.0.1-py3-none-any.whl (19 kB)\n",
            "Requirement already satisfied: requests in /usr/local/lib/python3.10/dist-packages (from roboflow) (2.31.0)\n",
            "Requirement already satisfied: six in /usr/local/lib/python3.10/dist-packages (from roboflow) (1.16.0)\n",
            "Requirement already satisfied: urllib3>=1.26.6 in /usr/local/lib/python3.10/dist-packages (from roboflow) (2.0.7)\n",
            "Requirement already satisfied: tqdm>=4.41.0 in /usr/local/lib/python3.10/dist-packages (from roboflow) (4.66.2)\n",
            "Requirement already satisfied: PyYAML>=5.3.1 in /usr/local/lib/python3.10/dist-packages (from roboflow) (6.0.1)\n",
            "Collecting requests-toolbelt (from roboflow)\n",
            "  Downloading requests_toolbelt-1.0.0-py2.py3-none-any.whl (54 kB)\n",
            "\u001b[2K     \u001b[90m━━━━━━━━━━━━━━━━━━━━━━━━━━━━━━━━━━━━━━━━\u001b[0m \u001b[32m54.5/54.5 kB\u001b[0m \u001b[31m7.5 MB/s\u001b[0m eta \u001b[36m0:00:00\u001b[0m\n",
            "\u001b[?25hCollecting python-magic (from roboflow)\n",
            "  Downloading python_magic-0.4.27-py2.py3-none-any.whl (13 kB)\n",
            "Requirement already satisfied: contourpy>=1.0.1 in /usr/local/lib/python3.10/dist-packages (from matplotlib->roboflow) (1.2.0)\n",
            "Requirement already satisfied: fonttools>=4.22.0 in /usr/local/lib/python3.10/dist-packages (from matplotlib->roboflow) (4.50.0)\n",
            "Requirement already satisfied: packaging>=20.0 in /usr/local/lib/python3.10/dist-packages (from matplotlib->roboflow) (24.0)\n",
            "Requirement already satisfied: pyparsing>=2.3.1 in /usr/local/lib/python3.10/dist-packages (from matplotlib->roboflow) (3.1.2)\n",
            "Requirement already satisfied: charset-normalizer<4,>=2 in /usr/local/lib/python3.10/dist-packages (from requests->roboflow) (3.3.2)\n",
            "Installing collected packages: python-magic, python-dotenv, opencv-python-headless, idna, cycler, chardet, certifi, requests-toolbelt, roboflow\n",
            "  Attempting uninstall: opencv-python-headless\n",
            "    Found existing installation: opencv-python-headless 4.9.0.80\n",
            "    Uninstalling opencv-python-headless-4.9.0.80:\n",
            "      Successfully uninstalled opencv-python-headless-4.9.0.80\n",
            "  Attempting uninstall: idna\n",
            "    Found existing installation: idna 3.6\n",
            "    Uninstalling idna-3.6:\n",
            "      Successfully uninstalled idna-3.6\n",
            "  Attempting uninstall: cycler\n",
            "    Found existing installation: cycler 0.12.1\n",
            "    Uninstalling cycler-0.12.1:\n",
            "      Successfully uninstalled cycler-0.12.1\n",
            "  Attempting uninstall: chardet\n",
            "    Found existing installation: chardet 5.2.0\n",
            "    Uninstalling chardet-5.2.0:\n",
            "      Successfully uninstalled chardet-5.2.0\n",
            "  Attempting uninstall: certifi\n",
            "    Found existing installation: certifi 2024.2.2\n",
            "    Uninstalling certifi-2024.2.2:\n",
            "      Successfully uninstalled certifi-2024.2.2\n",
            "Successfully installed certifi-2023.7.22 chardet-4.0.0 cycler-0.10.0 idna-2.10 opencv-python-headless-4.8.0.74 python-dotenv-1.0.1 python-magic-0.4.27 requests-toolbelt-1.0.0 roboflow-1.1.26\n"
          ]
        },
        {
          "output_type": "display_data",
          "data": {
            "application/vnd.colab-display-data+json": {
              "pip_warning": {
                "packages": [
                  "certifi",
                  "chardet",
                  "cycler",
                  "idna"
                ]
              },
              "id": "efe21b01a4484feb977ae92509b321e6"
            }
          },
          "metadata": {}
        }
      ]
    },
    {
      "cell_type": "code",
      "source": [
        "from roboflow import Roboflow\n",
        "rf = Roboflow(api_key=\"bxkYOvsxUdG36x6dmQFf\")\n",
        "project = rf.workspace(\"sanjana-hossain\").project(\"save-your-time-with-floorvision\")\n",
        "version = project.version(4)\n",
        "dataset = version.download(\"yolov5\")"
      ],
      "metadata": {
        "colab": {
          "base_uri": "https://localhost:8080/"
        },
        "id": "5eueXAwyqjIh",
        "outputId": "74a8cf13-ab2c-4a98-ed17-b35aa4377a17"
      },
      "execution_count": null,
      "outputs": [
        {
          "output_type": "stream",
          "name": "stdout",
          "text": [
            "loading Roboflow workspace...\n",
            "loading Roboflow project...\n"
          ]
        },
        {
          "output_type": "stream",
          "name": "stderr",
          "text": [
            "Downloading Dataset Version Zip in Save-Your-Time-With-FloorVision-4 to yolov5pytorch:: 100%|██████████| 22453/22453 [00:00<00:00, 35932.23it/s]"
          ]
        },
        {
          "output_type": "stream",
          "name": "stdout",
          "text": [
            "\n"
          ]
        },
        {
          "output_type": "stream",
          "name": "stderr",
          "text": [
            "\n",
            "Extracting Dataset Version Zip to Save-Your-Time-With-FloorVision-4 in yolov5pytorch:: 100%|██████████| 1796/1796 [00:00<00:00, 6900.08it/s]\n"
          ]
        }
      ]
    },
    {
      "cell_type": "code",
      "source": [
        "dataset.location"
      ],
      "metadata": {
        "colab": {
          "base_uri": "https://localhost:8080/",
          "height": 35
        },
        "id": "PF21JsDwrOPw",
        "outputId": "be0cd9c3-354a-4497-c3c2-1511f2a1f9ad"
      },
      "execution_count": null,
      "outputs": [
        {
          "output_type": "execute_result",
          "data": {
            "text/plain": [
              "'/content/yolov5/Save-Your-Time-With-FloorVision-4'"
            ],
            "application/vnd.google.colaboratory.intrinsic+json": {
              "type": "string"
            }
          },
          "metadata": {},
          "execution_count": 6
        }
      ]
    },
    {
      "cell_type": "code",
      "source": [
        "%cat {dataset.location}/data.yaml"
      ],
      "metadata": {
        "colab": {
          "base_uri": "https://localhost:8080/"
        },
        "id": "oPT_8ZEgrS_K",
        "outputId": "bcc05beb-db45-4209-bb62-e92494d0363d"
      },
      "execution_count": null,
      "outputs": [
        {
          "output_type": "stream",
          "name": "stdout",
          "text": [
            "names:\n",
            "- nt\n",
            "- ood\n",
            "- w\n",
            "nc: 3\n",
            "roboflow:\n",
            "  license: CC BY 4.0\n",
            "  project: save-your-time-with-floorvision\n",
            "  url: https://universe.roboflow.com/sanjana-hossain/save-your-time-with-floorvision/dataset/4\n",
            "  version: 4\n",
            "  workspace: sanjana-hossain\n",
            "test: ../test/images\n",
            "train: Save-Your-Time-With-FloorVision-4/train/images\n",
            "val: Save-Your-Time-With-FloorVision-4/valid/images\n"
          ]
        }
      ]
    },
    {
      "cell_type": "code",
      "source": [
        "import yaml\n",
        "with open(dataset.location + \"/data.yaml\", 'r') as stream:\n",
        "    num_classes = str(yaml.safe_load(stream)['nc'])\n",
        "\n",
        "print(num_classes)"
      ],
      "metadata": {
        "colab": {
          "base_uri": "https://localhost:8080/"
        },
        "id": "EOXtlo60rYz8",
        "outputId": "039818f7-b70e-4a77-a579-1e6bda17cf04"
      },
      "execution_count": null,
      "outputs": [
        {
          "output_type": "stream",
          "name": "stdout",
          "text": [
            "3\n"
          ]
        }
      ]
    },
    {
      "cell_type": "code",
      "source": [
        "#this is the model configuration we will use for our tutorial\n",
        "%cat /content/yolov5/models/yolov5m.yaml"
      ],
      "metadata": {
        "colab": {
          "base_uri": "https://localhost:8080/"
        },
        "id": "XYxtbhzcrhMn",
        "outputId": "80d03f44-7348-4799-a775-fa2810e40ba2"
      },
      "execution_count": null,
      "outputs": [
        {
          "output_type": "stream",
          "name": "stdout",
          "text": [
            "# YOLOv5 🚀 by Ultralytics, GPL-3.0 license\n",
            "\n",
            "# Parameters\n",
            "nc: 80  # number of classes\n",
            "depth_multiple: 0.67  # model depth multiple\n",
            "width_multiple: 0.75  # layer channel multiple\n",
            "anchors:\n",
            "  - [10,13, 16,30, 33,23]  # P3/8\n",
            "  - [30,61, 62,45, 59,119]  # P4/16\n",
            "  - [116,90, 156,198, 373,326]  # P5/32\n",
            "\n",
            "# YOLOv5 v6.0 backbone\n",
            "backbone:\n",
            "  # [from, number, module, args]\n",
            "  [[-1, 1, Conv, [64, 6, 2, 2]],  # 0-P1/2\n",
            "   [-1, 1, Conv, [128, 3, 2]],  # 1-P2/4\n",
            "   [-1, 3, C3, [128]],\n",
            "   [-1, 1, Conv, [256, 3, 2]],  # 3-P3/8\n",
            "   [-1, 6, C3, [256]],\n",
            "   [-1, 1, Conv, [512, 3, 2]],  # 5-P4/16\n",
            "   [-1, 9, C3, [512]],\n",
            "   [-1, 1, Conv, [1024, 3, 2]],  # 7-P5/32\n",
            "   [-1, 3, C3, [1024]],\n",
            "   [-1, 1, SPPF, [1024, 5]],  # 9\n",
            "  ]\n",
            "\n",
            "# YOLOv5 v6.0 head\n",
            "head:\n",
            "  [[-1, 1, Conv, [512, 1, 1]],\n",
            "   [-1, 1, nn.Upsample, [None, 2, 'nearest']],\n",
            "   [[-1, 6], 1, Concat, [1]],  # cat backbone P4\n",
            "   [-1, 3, C3, [512, False]],  # 13\n",
            "\n",
            "   [-1, 1, Conv, [256, 1, 1]],\n",
            "   [-1, 1, nn.Upsample, [None, 2, 'nearest']],\n",
            "   [[-1, 4], 1, Concat, [1]],  # cat backbone P3\n",
            "   [-1, 3, C3, [256, False]],  # 17 (P3/8-small)\n",
            "\n",
            "   [-1, 1, Conv, [256, 3, 2]],\n",
            "   [[-1, 14], 1, Concat, [1]],  # cat head P4\n",
            "   [-1, 3, C3, [512, False]],  # 20 (P4/16-medium)\n",
            "\n",
            "   [-1, 1, Conv, [512, 3, 2]],\n",
            "   [[-1, 10], 1, Concat, [1]],  # cat head P5\n",
            "   [-1, 3, C3, [1024, False]],  # 23 (P5/32-large)\n",
            "\n",
            "   [[17, 20, 23], 1, Detect, [nc, anchors]],  # Detect(P3, P4, P5)\n",
            "  ]\n"
          ]
        }
      ]
    },
    {
      "cell_type": "code",
      "source": [
        "#customize iPython writefile so we can write variables\n",
        "from IPython.core.magic import register_line_cell_magic\n",
        "\n",
        "@register_line_cell_magic\n",
        "def writetemplate(line, cell):\n",
        "    with open(line, 'w') as f:\n",
        "        f.write(cell.format(**globals()))"
      ],
      "metadata": {
        "id": "6-1orsYsr4Iv"
      },
      "execution_count": null,
      "outputs": []
    },
    {
      "cell_type": "code",
      "source": [
        "%%writetemplate /content/yolov5/models/custom_yolov5s.yaml\n",
        "\n",
        "# parameters\n",
        "nc: {num_classes}  # number of classes\n",
        "depth_multiple: 0.33  # model depth multiple\n",
        "width_multiple: 0.50  # layer channel multiple\n",
        "\n",
        "# anchors\n",
        "anchors:\n",
        "  - [10,13, 16,30, 33,23]  # P3/8\n",
        "  - [30,61, 62,45, 59,119]  # P4/16\n",
        "  - [116,90, 156,198, 373,326]  # P5/32\n",
        "\n",
        "# YOLOv5 backbone\n",
        "backbone:\n",
        "  # [from, number, module, args]\n",
        "  [[-1, 1, Focus, [64, 3]],  # 0-P1/2\n",
        "   [-1, 1, Conv, [128, 3, 2]],  # 1-P2/4\n",
        "   [-1, 3, BottleneckCSP, [128]],\n",
        "   [-1, 1, Conv, [256, 3, 2]],  # 3-P3/8\n",
        "   [-1, 9, BottleneckCSP, [256]],\n",
        "   [-1, 1, Conv, [512, 3, 2]],  # 5-P4/16\n",
        "   [-1, 9, BottleneckCSP, [512]],\n",
        "   [-1, 1, Conv, [1024, 3, 2]],  # 7-P5/32\n",
        "   [-1, 1, SPP, [1024, [5, 9, 13]]],\n",
        "   [-1, 3, BottleneckCSP, [1024, False]],  # 9\n",
        "  ]\n",
        "\n",
        "# YOLOv5 head\n",
        "head:\n",
        "  [[-1, 1, Conv, [512, 1, 1]],\n",
        "   [-1, 1, nn.Upsample, [None, 2, 'nearest']],\n",
        "   [[-1, 6], 1, Concat, [1]],  # cat backbone P4\n",
        "   [-1, 3, BottleneckCSP, [512, False]],  # 13\n",
        "\n",
        "   [-1, 1, Conv, [256, 1, 1]],\n",
        "   [-1, 1, nn.Upsample, [None, 2, 'nearest']],\n",
        "   [[-1, 4], 1, Concat, [1]],  # cat backbone P3\n",
        "   [-1, 3, BottleneckCSP, [256, False]],  # 17 (P3/8-small)\n",
        "\n",
        "   [-1, 1, Conv, [256, 3, 2]],\n",
        "   [[-1, 14], 1, Concat, [1]],  # cat head P4\n",
        "   [-1, 3, BottleneckCSP, [512, False]],  # 20 (P4/16-medium)\n",
        "\n",
        "   [-1, 1, Conv, [512, 3, 2]],\n",
        "   [[-1, 10], 1, Concat, [1]],  # cat head P5\n",
        "   [-1, 3, BottleneckCSP, [1024, False]],  # 23 (P5/32-large)\n",
        "\n",
        "   [[17, 20, 23], 1, Detect, [nc, anchors]],  # Detect(P3, P4, P5)\n",
        "  ]"
      ],
      "metadata": {
        "id": "XCzH4rtUr9Ab"
      },
      "execution_count": null,
      "outputs": []
    },
    {
      "cell_type": "code",
      "source": [
        "!git pull origin master"
      ],
      "metadata": {
        "colab": {
          "base_uri": "https://localhost:8080/"
        },
        "id": "4vrguvK0uVXZ",
        "outputId": "8f3a97b7-4d92-46bb-b2a8-765eac6ff7ed"
      },
      "execution_count": null,
      "outputs": [
        {
          "output_type": "stream",
          "name": "stdout",
          "text": [
            "From https://github.com/ultralytics/yolov5\n",
            " * branch              master     -> FETCH_HEAD\n",
            "Updating fbe67e46..ac6c4383\n",
            "Fast-forward\n",
            " utils/docker/.dockerignore => .dockerignore         |    2 \u001b[32m+\u001b[m\u001b[31m-\u001b[m\n",
            " .github/CODE_OF_CONDUCT.md                          |  128 \u001b[31m----\u001b[m\n",
            " .github/ISSUE_TEMPLATE/bug-report.yml               |    4 \u001b[32m+\u001b[m\u001b[31m-\u001b[m\n",
            " .github/ISSUE_TEMPLATE/config.yml                   |    9 \u001b[32m+\u001b[m\u001b[31m-\u001b[m\n",
            " .github/ISSUE_TEMPLATE/feature-request.yml          |    2 \u001b[32m+\u001b[m\u001b[31m-\u001b[m\n",
            " .github/PULL_REQUEST_TEMPLATE.md                    |    9 \u001b[31m-\u001b[m\n",
            " .github/README_cn.md                                |  291 \u001b[31m--------\u001b[m\n",
            " .github/SECURITY.md                                 |    7 \u001b[31m-\u001b[m\n",
            " .github/dependabot.yml                              |    6 \u001b[32m+\u001b[m\u001b[31m-\u001b[m\n",
            " .github/workflows/ci-testing.yml                    |  170 \u001b[32m+++\u001b[m\u001b[31m--\u001b[m\n",
            " .github/workflows/codeql-analysis.yml               |   13 \u001b[32m+\u001b[m\u001b[31m-\u001b[m\n",
            " .github/workflows/docker.yml                        |   24 \u001b[32m+\u001b[m\u001b[31m-\u001b[m\n",
            " .github/workflows/format.yml                        |   27 \u001b[32m+\u001b[m\n",
            " .github/workflows/greetings.yml                     |   50 \u001b[32m+\u001b[m\u001b[31m-\u001b[m\n",
            " .github/workflows/links.yml                         |   71 \u001b[32m++\u001b[m\n",
            " .github/workflows/rebase.yml                        |   21 \u001b[31m-\u001b[m\n",
            " .github/workflows/stale.yml                         |   43 \u001b[32m+\u001b[m\u001b[31m-\u001b[m\n",
            " .gitignore                                          |    1 \u001b[32m+\u001b[m\n",
            " .pre-commit-config.yaml                             |   64 \u001b[31m--\u001b[m\n",
            " CITATION.cff                                        |   14 \u001b[32m+\u001b[m\n",
            " CONTRIBUTING.md                                     |   58 \u001b[32m+\u001b[m\u001b[31m-\u001b[m\n",
            " LICENSE                                             |  153 \u001b[32m++\u001b[m\u001b[31m--\u001b[m\n",
            " README.md                                           |  540 \u001b[32m+++++++++\u001b[m\u001b[31m-----\u001b[m\n",
            " README.zh-CN.md                                     |  473 \u001b[32m+++++++++++++\u001b[m\n",
            " benchmarks.py                                       |  176 \u001b[32m+++++\u001b[m\n",
            " classify/predict.py                                 |  240 \u001b[32m+++++++\u001b[m\n",
            " classify/train.py                                   |  378 \u001b[32m++++++++++\u001b[m\n",
            " classify/tutorial.ipynb                             | 1481 \u001b[32m+++++++++++++++++++++++++++++++++++++++\u001b[m\n",
            " classify/val.py                                     |  177 \u001b[32m+++++\u001b[m\n",
            " data/Argoverse.yaml                                 |   25 \u001b[32m+\u001b[m\u001b[31m-\u001b[m\n",
            " data/GlobalWheat2020.yaml                           |   10 \u001b[32m+\u001b[m\u001b[31m-\u001b[m\n",
            " data/ImageNet.yaml                                  | 1020 \u001b[32m+++++++++++++++++++++++++++\u001b[m\n",
            " data/ImageNet10.yaml                                |   30 \u001b[32m+\u001b[m\n",
            " data/ImageNet100.yaml                               |  119 \u001b[32m++++\u001b[m\n",
            " data/ImageNet1000.yaml                              | 1020 \u001b[32m+++++++++++++++++++++++++++\u001b[m\n",
            " data/Objects365.yaml                                |  422 \u001b[32m+++++++++\u001b[m\u001b[31m--\u001b[m\n",
            " data/SKU-110K.yaml                                  |   16 \u001b[32m+\u001b[m\u001b[31m-\u001b[m\n",
            " data/VOC.yaml                                       |   33 \u001b[32m+\u001b[m\u001b[31m-\u001b[m\n",
            " data/VisDrone.yaml                                  |   25 \u001b[32m+\u001b[m\u001b[31m-\u001b[m\n",
            " data/coco.yaml                                      |  103 \u001b[32m++\u001b[m\u001b[31m-\u001b[m\n",
            " data/coco128-seg.yaml                               |   99 \u001b[32m+++\u001b[m\n",
            " data/coco128.yaml                                   |  103 \u001b[32m++\u001b[m\u001b[31m-\u001b[m\n",
            " data/hyps/hyp.Objects365.yaml                       |    2 \u001b[32m+\u001b[m\u001b[31m-\u001b[m\n",
            " data/hyps/hyp.VOC.yaml                              |    2 \u001b[32m+\u001b[m\u001b[31m-\u001b[m\n",
            " data/hyps/hyp.no-augmentation.yaml                  |   35 \u001b[32m+\u001b[m\n",
            " data/hyps/hyp.scratch-high.yaml                     |   58 \u001b[32m+\u001b[m\u001b[31m-\u001b[m\n",
            " data/hyps/hyp.scratch-low.yaml                      |   58 \u001b[32m+\u001b[m\u001b[31m-\u001b[m\n",
            " data/hyps/hyp.scratch-med.yaml                      |   58 \u001b[32m+\u001b[m\u001b[31m-\u001b[m\n",
            " data/scripts/download_weights.sh                    |   14 \u001b[32m+\u001b[m\u001b[31m-\u001b[m\n",
            " data/scripts/get_coco.sh                            |   47 \u001b[32m+\u001b[m\u001b[31m-\u001b[m\n",
            " data/scripts/get_coco128.sh                         |    4 \u001b[32m+\u001b[m\u001b[31m-\u001b[m\n",
            " data/scripts/get_imagenet.sh                        |   51 \u001b[32m++\u001b[m\n",
            " data/scripts/get_imagenet10.sh                      |   29 \u001b[32m+\u001b[m\n",
            " data/scripts/get_imagenet100.sh                     |   29 \u001b[32m+\u001b[m\n",
            " data/scripts/get_imagenet1000.sh                    |   29 \u001b[32m+\u001b[m\n",
            " data/xView.yaml                                     |   83 \u001b[32m++\u001b[m\u001b[31m-\u001b[m\n",
            " detect.py                                           |  308 \u001b[32m++++\u001b[m\u001b[31m----\u001b[m\n",
            " export.py                                           | 1272 \u001b[32m++++++++++++++++++++\u001b[m\u001b[31m-------------\u001b[m\n",
            " hubconf.py                                          |  164 \u001b[32m+++\u001b[m\u001b[31m--\u001b[m\n",
            " models/common.py                                    |  908 \u001b[32m++++++++++++++++\u001b[m\u001b[31m--------\u001b[m\n",
            " models/experimental.py                              |   84 \u001b[32m++\u001b[m\u001b[31m-\u001b[m\n",
            " models/hub/anchors.yaml                             |   65 \u001b[32m+\u001b[m\u001b[31m-\u001b[m\n",
            " models/hub/yolov3-spp.yaml                          |   75 \u001b[32m+\u001b[m\u001b[31m-\u001b[m\n",
            " models/hub/yolov3-tiny.yaml                         |   57 \u001b[32m+\u001b[m\u001b[31m-\u001b[m\n",
            " models/hub/yolov3.yaml                              |   75 \u001b[32m+\u001b[m\u001b[31m-\u001b[m\n",
            " models/hub/yolov5-bifpn.yaml                        |   67 \u001b[32m+\u001b[m\u001b[31m-\u001b[m\n",
            " models/hub/yolov5-fpn.yaml                          |   57 \u001b[32m+\u001b[m\u001b[31m-\u001b[m\n",
            " models/hub/yolov5-p2.yaml                           |   89 \u001b[32m+\u001b[m\u001b[31m--\u001b[m\n",
            " models/hub/yolov5-p34.yaml                          |   57 \u001b[32m+\u001b[m\u001b[31m-\u001b[m\n",
            " models/hub/yolov5-p6.yaml                           |   93 \u001b[32m+\u001b[m\u001b[31m--\u001b[m\n",
            " models/hub/yolov5-p7.yaml                           |   99 \u001b[32m+\u001b[m\u001b[31m--\u001b[m\n",
            " models/hub/yolov5-panet.yaml                        |   67 \u001b[32m+\u001b[m\u001b[31m-\u001b[m\n",
            " models/hub/yolov5l6.yaml                            |   99 \u001b[32m+\u001b[m\u001b[31m--\u001b[m\n",
            " models/hub/yolov5m6.yaml                            |   99 \u001b[32m+\u001b[m\u001b[31m--\u001b[m\n",
            " models/hub/yolov5n6.yaml                            |   99 \u001b[32m+\u001b[m\u001b[31m--\u001b[m\n",
            " models/hub/yolov5s-LeakyReLU.yaml                   |   50 \u001b[32m++\u001b[m\n",
            " models/hub/yolov5s-ghost.yaml                       |   67 \u001b[32m+\u001b[m\u001b[31m-\u001b[m\n",
            " models/hub/yolov5s-transformer.yaml                 |   67 \u001b[32m+\u001b[m\u001b[31m-\u001b[m\n",
            " models/hub/yolov5s6.yaml                            |   99 \u001b[32m+\u001b[m\u001b[31m--\u001b[m\n",
            " models/hub/yolov5x6.yaml                            |   99 \u001b[32m+\u001b[m\u001b[31m--\u001b[m\n",
            " models/segment/yolov5l-seg.yaml                     |   49 \u001b[32m++\u001b[m\n",
            " models/segment/yolov5m-seg.yaml                     |   49 \u001b[32m++\u001b[m\n",
            " models/segment/yolov5n-seg.yaml                     |   49 \u001b[32m++\u001b[m\n",
            " models/segment/yolov5s-seg.yaml                     |   49 \u001b[32m++\u001b[m\n",
            " models/segment/yolov5x-seg.yaml                     |   49 \u001b[32m++\u001b[m\n",
            " models/tf.py                                        |  455 \u001b[32m++++++++\u001b[m\u001b[31m----\u001b[m\n",
            " models/yolo.py                                      |  414 \u001b[32m+++++++\u001b[m\u001b[31m----\u001b[m\n",
            " models/yolov5l.yaml                                 |   67 \u001b[32m+\u001b[m\u001b[31m-\u001b[m\n",
            " models/yolov5m.yaml                                 |   67 \u001b[32m+\u001b[m\u001b[31m-\u001b[m\n",
            " models/yolov5n.yaml                                 |   67 \u001b[32m+\u001b[m\u001b[31m-\u001b[m\n",
            " models/yolov5s.yaml                                 |   67 \u001b[32m+\u001b[m\u001b[31m-\u001b[m\n",
            " models/yolov5x.yaml                                 |   67 \u001b[32m+\u001b[m\u001b[31m-\u001b[m\n",
            " pyproject.toml                                      |  147 \u001b[32m++++\u001b[m\n",
            " requirements.txt                                    |   56 \u001b[32m+\u001b[m\u001b[31m-\u001b[m\n",
            " segment/predict.py                                  |  306 \u001b[32m++++++++\u001b[m\n",
            " segment/train.py                                    |  760 \u001b[32m++++++++++++++++++++\u001b[m\n",
            " segment/tutorial.ipynb                              |  595 \u001b[32m++++++++++++++++\u001b[m\n",
            " segment/val.py                                      |  518 \u001b[32m++++++++++++++\u001b[m\n",
            " setup.cfg                                           |   59 \u001b[31m--\u001b[m\n",
            " train.py                                            |  872 \u001b[32m++++++++++++++\u001b[m\u001b[31m---------\u001b[m\n",
            " tutorial.ipynb                                      | 1025 \u001b[32m+++++++\u001b[m\u001b[31m--------------------\u001b[m\n",
            " utils/__init__.py                                   |  131 \u001b[32m+++\u001b[m\u001b[31m-\u001b[m\n",
            " utils/activations.py                                |   57 \u001b[32m+\u001b[m\u001b[31m-\u001b[m\n",
            " utils/augmentations.py                              |  233 \u001b[32m+++++\u001b[m\u001b[31m-\u001b[m\n",
            " utils/autoanchor.py                                 |   93 \u001b[32m+\u001b[m\u001b[31m--\u001b[m\n",
            " utils/autobatch.py                                  |   40 \u001b[32m+\u001b[m\u001b[31m-\u001b[m\n",
            " utils/aws/resume.py                                 |   16 \u001b[32m+\u001b[m\u001b[31m-\u001b[m\n",
            " utils/benchmarks.py                                 |  157 \u001b[31m-----\u001b[m\n",
            " utils/callbacks.py                                  |   74 \u001b[32m+\u001b[m\u001b[31m-\u001b[m\n",
            " utils/dataloaders.py                                | 1103 \u001b[32m++++++++++++++++++\u001b[m\u001b[31m-----------\u001b[m\n",
            " utils/docker/Dockerfile                             |   47 \u001b[32m+\u001b[m\u001b[31m-\u001b[m\n",
            " utils/docker/Dockerfile-arm64                       |   24 \u001b[32m+\u001b[m\u001b[31m-\u001b[m\n",
            " utils/docker/Dockerfile-cpu                         |   17 \u001b[32m+\u001b[m\u001b[31m-\u001b[m\n",
            " utils/downloads.py                                  |  208 \u001b[32m+++\u001b[m\u001b[31m---\u001b[m\n",
            " utils/flask_rest_api/README.md                      |    7 \u001b[32m+\u001b[m\u001b[31m-\u001b[m\n",
            " utils/flask_rest_api/example_request.py             |    6 \u001b[32m+\u001b[m\u001b[31m-\u001b[m\n",
            " utils/flask_rest_api/restapi.py                     |   25 \u001b[32m+\u001b[m\u001b[31m-\u001b[m\n",
            " utils/general.py                                    | 1159 \u001b[32m++++++++++++++++++\u001b[m\u001b[31m------------\u001b[m\n",
            " utils/google_app_engine/additional_requirements.txt |    7 \u001b[32m+\u001b[m\u001b[31m-\u001b[m\n",
            " utils/loggers/__init__.py                           |  461 \u001b[32m+++++++++\u001b[m\u001b[31m---\u001b[m\n",
            " utils/loggers/clearml/README.md                     |  234 \u001b[32m+++++++\u001b[m\n",
            " utils/loggers/clearml/__init__.py                   |    0\n",
            " utils/loggers/clearml/clearml_utils.py              |  228 \u001b[32m++++++\u001b[m\n",
            " utils/loggers/clearml/hpo.py                        |   88 \u001b[32m+++\u001b[m\n",
            " utils/loggers/comet/README.md                       |  250 \u001b[32m+++++++\u001b[m\n",
            " utils/loggers/comet/__init__.py                     |  546 \u001b[32m+++++++++++++++\u001b[m\n",
            " utils/loggers/comet/comet_utils.py                  |  149 \u001b[32m++++\u001b[m\n",
            " utils/loggers/comet/hpo.py                          |  124 \u001b[32m++++\u001b[m\n",
            " utils/loggers/comet/optimizer_config.json           |  135 \u001b[32m++++\u001b[m\n",
            " utils/loggers/wandb/README.md                       |  162 \u001b[31m-----\u001b[m\n",
            " utils/loggers/wandb/log_dataset.py                  |   27 \u001b[31m-\u001b[m\n",
            " utils/loggers/wandb/sweep.py                        |   41 \u001b[31m--\u001b[m\n",
            " utils/loggers/wandb/sweep.yaml                      |  143 \u001b[31m----\u001b[m\n",
            " utils/loggers/wandb/wandb_utils.py                  |  533 \u001b[32m+++\u001b[m\u001b[31m-----------\u001b[m\n",
            " utils/loss.py                                       |   84 \u001b[32m++\u001b[m\u001b[31m-\u001b[m\n",
            " utils/metrics.py                                    |  207 \u001b[32m+++\u001b[m\u001b[31m---\u001b[m\n",
            " utils/plots.py                                      |  450 \u001b[32m++++++\u001b[m\u001b[31m------\u001b[m\n",
            " utils/segment/__init__.py                           |    0\n",
            " utils/segment/augmentations.py                      |  100 \u001b[32m+++\u001b[m\n",
            " utils/segment/dataloaders.py                        |  362 \u001b[32m++++++++++\u001b[m\n",
            " utils/segment/general.py                            |  161 \u001b[32m+++++\u001b[m\n",
            " utils/segment/loss.py                               |  195 \u001b[32m++++++\u001b[m\n",
            " utils/segment/metrics.py                            |  217 \u001b[32m++++++\u001b[m\n",
            " utils/segment/plots.py                              |  150 \u001b[32m++++\u001b[m\n",
            " utils/torch_utils.py                                |  382 \u001b[32m++++++\u001b[m\u001b[31m----\u001b[m\n",
            " utils/triton.py                                     |   91 \u001b[32m+++\u001b[m\n",
            " val.py                                              |  356 \u001b[32m+++++\u001b[m\u001b[31m-----\u001b[m\n",
            " 147 files changed, 19986 insertions(+), 7453 deletions(-)\n",
            " rename utils/docker/.dockerignore => .dockerignore (99%)\n",
            " delete mode 100644 .github/CODE_OF_CONDUCT.md\n",
            " delete mode 100644 .github/PULL_REQUEST_TEMPLATE.md\n",
            " delete mode 100644 .github/README_cn.md\n",
            " delete mode 100644 .github/SECURITY.md\n",
            " create mode 100644 .github/workflows/format.yml\n",
            " create mode 100644 .github/workflows/links.yml\n",
            " delete mode 100644 .github/workflows/rebase.yml\n",
            " delete mode 100644 .pre-commit-config.yaml\n",
            " create mode 100644 CITATION.cff\n",
            " create mode 100644 README.zh-CN.md\n",
            " create mode 100644 benchmarks.py\n",
            " create mode 100644 classify/predict.py\n",
            " create mode 100644 classify/train.py\n",
            " create mode 100644 classify/tutorial.ipynb\n",
            " create mode 100644 classify/val.py\n",
            " create mode 100644 data/ImageNet.yaml\n",
            " create mode 100644 data/ImageNet10.yaml\n",
            " create mode 100644 data/ImageNet100.yaml\n",
            " create mode 100644 data/ImageNet1000.yaml\n",
            " create mode 100644 data/coco128-seg.yaml\n",
            " create mode 100644 data/hyps/hyp.no-augmentation.yaml\n",
            " mode change 100644 => 100755 data/scripts/get_coco128.sh\n",
            " create mode 100755 data/scripts/get_imagenet.sh\n",
            " create mode 100644 data/scripts/get_imagenet10.sh\n",
            " create mode 100644 data/scripts/get_imagenet100.sh\n",
            " create mode 100644 data/scripts/get_imagenet1000.sh\n",
            " create mode 100644 models/hub/yolov5s-LeakyReLU.yaml\n",
            " create mode 100644 models/segment/yolov5l-seg.yaml\n",
            " create mode 100644 models/segment/yolov5m-seg.yaml\n",
            " create mode 100644 models/segment/yolov5n-seg.yaml\n",
            " create mode 100644 models/segment/yolov5s-seg.yaml\n",
            " create mode 100644 models/segment/yolov5x-seg.yaml\n",
            " create mode 100644 pyproject.toml\n",
            " create mode 100644 segment/predict.py\n",
            " create mode 100644 segment/train.py\n",
            " create mode 100644 segment/tutorial.ipynb\n",
            " create mode 100644 segment/val.py\n",
            " delete mode 100644 setup.cfg\n",
            " delete mode 100644 utils/benchmarks.py\n",
            " mode change 100755 => 100644 utils/dataloaders.py\n",
            " mode change 100755 => 100644 utils/general.py\n",
            " create mode 100644 utils/loggers/clearml/README.md\n",
            " create mode 100644 utils/loggers/clearml/__init__.py\n",
            " create mode 100644 utils/loggers/clearml/clearml_utils.py\n",
            " create mode 100644 utils/loggers/clearml/hpo.py\n",
            " create mode 100644 utils/loggers/comet/README.md\n",
            " create mode 100644 utils/loggers/comet/__init__.py\n",
            " create mode 100644 utils/loggers/comet/comet_utils.py\n",
            " create mode 100644 utils/loggers/comet/hpo.py\n",
            " create mode 100644 utils/loggers/comet/optimizer_config.json\n",
            " delete mode 100644 utils/loggers/wandb/README.md\n",
            " delete mode 100644 utils/loggers/wandb/log_dataset.py\n",
            " delete mode 100644 utils/loggers/wandb/sweep.py\n",
            " delete mode 100644 utils/loggers/wandb/sweep.yaml\n",
            " create mode 100644 utils/segment/__init__.py\n",
            " create mode 100644 utils/segment/augmentations.py\n",
            " create mode 100644 utils/segment/dataloaders.py\n",
            " create mode 100644 utils/segment/general.py\n",
            " create mode 100644 utils/segment/loss.py\n",
            " create mode 100644 utils/segment/metrics.py\n",
            " create mode 100644 utils/segment/plots.py\n",
            " create mode 100644 utils/triton.py\n"
          ]
        }
      ]
    },
    {
      "cell_type": "code",
      "source": [
        "# train yolov5s on custom data for 100 epochs\n",
        "# time its performance\n",
        "%%time\n",
        "%cd /content/yolov5/"
      ],
      "metadata": {
        "colab": {
          "base_uri": "https://localhost:8080/"
        },
        "id": "BhCbwFOSr9GJ",
        "outputId": "ca4d2139-1494-4595-8d31-72b622e525d7"
      },
      "execution_count": null,
      "outputs": [
        {
          "output_type": "stream",
          "name": "stdout",
          "text": [
            "/content/yolov5\n",
            "CPU times: user 322 µs, sys: 0 ns, total: 322 µs\n",
            "Wall time: 332 µs\n"
          ]
        }
      ]
    },
    {
      "cell_type": "code",
      "source": [
        "!python train.py --img 500 --batch 16 --epochs 100 --data {dataset.location}/data.yaml --cfg ./models/custom_yolov5s.yaml --weights 'yolov5s.pt' --name yolov5s_results  --cache"
      ],
      "metadata": {
        "colab": {
          "base_uri": "https://localhost:8080/"
        },
        "id": "j7OpSGDEwAtD",
        "outputId": "6172180e-f925-4e98-8bae-36be00a44fc9"
      },
      "execution_count": null,
      "outputs": [
        {
          "output_type": "stream",
          "name": "stdout",
          "text": [
            "Collecting ultralytics\n",
            "  Downloading ultralytics-8.1.34-py3-none-any.whl (723 kB)\n",
            "\u001b[?25l     \u001b[90m━━━━━━━━━━━━━━━━━━━━━━━━━━━━━━━━━━━━━━━━\u001b[0m \u001b[32m0.0/723.1 kB\u001b[0m \u001b[31m?\u001b[0m eta \u001b[36m-:--:--\u001b[0m\r\u001b[2K     \u001b[91m━━━━━━\u001b[0m\u001b[90m╺\u001b[0m\u001b[90m━━━━━━━━━━━━━━━━━━━━━━━━━━━━━━━━━\u001b[0m \u001b[32m112.6/723.1 kB\u001b[0m \u001b[31m3.1 MB/s\u001b[0m eta \u001b[36m0:00:01\u001b[0m\r\u001b[2K     \u001b[91m━━━━━━━━━━━━━━━━━━━━━━━━━━\u001b[0m\u001b[90m╺\u001b[0m\u001b[90m━━━━━━━━━━━━━\u001b[0m \u001b[32m471.0/723.1 kB\u001b[0m \u001b[31m6.7 MB/s\u001b[0m eta \u001b[36m0:00:01\u001b[0m\r\u001b[2K     \u001b[90m━━━━━━━━━━━━━━━━━━━━━━━━━━━━━━━━━━━━━━━━\u001b[0m \u001b[32m723.1/723.1 kB\u001b[0m \u001b[31m6.9 MB/s\u001b[0m eta \u001b[36m0:00:00\u001b[0m\n",
            "\u001b[?25hRequirement already satisfied: matplotlib>=3.3.0 in /usr/local/lib/python3.10/dist-packages (from ultralytics) (3.7.1)\n",
            "Requirement already satisfied: opencv-python>=4.6.0 in /usr/local/lib/python3.10/dist-packages (from ultralytics) (4.8.0.76)\n",
            "Requirement already satisfied: pillow>=7.1.2 in /usr/local/lib/python3.10/dist-packages (from ultralytics) (9.4.0)\n",
            "Requirement already satisfied: pyyaml>=5.3.1 in /usr/local/lib/python3.10/dist-packages (from ultralytics) (6.0.1)\n",
            "Requirement already satisfied: requests>=2.23.0 in /usr/local/lib/python3.10/dist-packages (from ultralytics) (2.31.0)\n",
            "Requirement already satisfied: scipy>=1.4.1 in /usr/local/lib/python3.10/dist-packages (from ultralytics) (1.11.4)\n",
            "Requirement already satisfied: torch>=1.8.0 in /usr/local/lib/python3.10/dist-packages (from ultralytics) (2.2.1+cu121)\n",
            "Requirement already satisfied: torchvision>=0.9.0 in /usr/local/lib/python3.10/dist-packages (from ultralytics) (0.17.1+cu121)\n",
            "Requirement already satisfied: tqdm>=4.64.0 in /usr/local/lib/python3.10/dist-packages (from ultralytics) (4.66.2)\n",
            "Requirement already satisfied: psutil in /usr/local/lib/python3.10/dist-packages (from ultralytics) (5.9.5)\n",
            "Requirement already satisfied: py-cpuinfo in /usr/local/lib/python3.10/dist-packages (from ultralytics) (9.0.0)\n",
            "Requirement already satisfied: thop>=0.1.1 in /usr/local/lib/python3.10/dist-packages (from ultralytics) (0.1.1.post2209072238)\n",
            "Requirement already satisfied: pandas>=1.1.4 in /usr/local/lib/python3.10/dist-packages (from ultralytics) (1.5.3)\n",
            "Requirement already satisfied: seaborn>=0.11.0 in /usr/local/lib/python3.10/dist-packages (from ultralytics) (0.13.1)\n",
            "Requirement already satisfied: contourpy>=1.0.1 in /usr/local/lib/python3.10/dist-packages (from matplotlib>=3.3.0->ultralytics) (1.2.0)\n",
            "Requirement already satisfied: cycler>=0.10 in /usr/local/lib/python3.10/dist-packages (from matplotlib>=3.3.0->ultralytics) (0.10.0)\n",
            "Requirement already satisfied: fonttools>=4.22.0 in /usr/local/lib/python3.10/dist-packages (from matplotlib>=3.3.0->ultralytics) (4.50.0)\n",
            "Requirement already satisfied: kiwisolver>=1.0.1 in /usr/local/lib/python3.10/dist-packages (from matplotlib>=3.3.0->ultralytics) (1.4.5)\n",
            "Requirement already satisfied: numpy>=1.20 in /usr/local/lib/python3.10/dist-packages (from matplotlib>=3.3.0->ultralytics) (1.25.2)\n",
            "Requirement already satisfied: packaging>=20.0 in /usr/local/lib/python3.10/dist-packages (from matplotlib>=3.3.0->ultralytics) (24.0)\n",
            "Requirement already satisfied: pyparsing>=2.3.1 in /usr/local/lib/python3.10/dist-packages (from matplotlib>=3.3.0->ultralytics) (3.1.2)\n",
            "Requirement already satisfied: python-dateutil>=2.7 in /usr/local/lib/python3.10/dist-packages (from matplotlib>=3.3.0->ultralytics) (2.8.2)\n",
            "Requirement already satisfied: pytz>=2020.1 in /usr/local/lib/python3.10/dist-packages (from pandas>=1.1.4->ultralytics) (2023.4)\n",
            "Requirement already satisfied: charset-normalizer<4,>=2 in /usr/local/lib/python3.10/dist-packages (from requests>=2.23.0->ultralytics) (3.3.2)\n",
            "Requirement already satisfied: idna<4,>=2.5 in /usr/local/lib/python3.10/dist-packages (from requests>=2.23.0->ultralytics) (2.10)\n",
            "Requirement already satisfied: urllib3<3,>=1.21.1 in /usr/local/lib/python3.10/dist-packages (from requests>=2.23.0->ultralytics) (2.0.7)\n",
            "Requirement already satisfied: certifi>=2017.4.17 in /usr/local/lib/python3.10/dist-packages (from requests>=2.23.0->ultralytics) (2023.7.22)\n",
            "Requirement already satisfied: filelock in /usr/local/lib/python3.10/dist-packages (from torch>=1.8.0->ultralytics) (3.13.1)\n",
            "Requirement already satisfied: typing-extensions>=4.8.0 in /usr/local/lib/python3.10/dist-packages (from torch>=1.8.0->ultralytics) (4.10.0)\n",
            "Requirement already satisfied: sympy in /usr/local/lib/python3.10/dist-packages (from torch>=1.8.0->ultralytics) (1.12)\n",
            "Requirement already satisfied: networkx in /usr/local/lib/python3.10/dist-packages (from torch>=1.8.0->ultralytics) (3.2.1)\n",
            "Requirement already satisfied: jinja2 in /usr/local/lib/python3.10/dist-packages (from torch>=1.8.0->ultralytics) (3.1.3)\n",
            "Requirement already satisfied: fsspec in /usr/local/lib/python3.10/dist-packages (from torch>=1.8.0->ultralytics) (2023.6.0)\n",
            "Requirement already satisfied: nvidia-cuda-nvrtc-cu12==12.1.105 in /usr/local/lib/python3.10/dist-packages (from torch>=1.8.0->ultralytics) (12.1.105)\n",
            "Requirement already satisfied: nvidia-cuda-runtime-cu12==12.1.105 in /usr/local/lib/python3.10/dist-packages (from torch>=1.8.0->ultralytics) (12.1.105)\n",
            "Requirement already satisfied: nvidia-cuda-cupti-cu12==12.1.105 in /usr/local/lib/python3.10/dist-packages (from torch>=1.8.0->ultralytics) (12.1.105)\n",
            "Requirement already satisfied: nvidia-cudnn-cu12==8.9.2.26 in /usr/local/lib/python3.10/dist-packages (from torch>=1.8.0->ultralytics) (8.9.2.26)\n",
            "Requirement already satisfied: nvidia-cublas-cu12==12.1.3.1 in /usr/local/lib/python3.10/dist-packages (from torch>=1.8.0->ultralytics) (12.1.3.1)\n",
            "Requirement already satisfied: nvidia-cufft-cu12==11.0.2.54 in /usr/local/lib/python3.10/dist-packages (from torch>=1.8.0->ultralytics) (11.0.2.54)\n",
            "Requirement already satisfied: nvidia-curand-cu12==10.3.2.106 in /usr/local/lib/python3.10/dist-packages (from torch>=1.8.0->ultralytics) (10.3.2.106)\n",
            "Requirement already satisfied: nvidia-cusolver-cu12==11.4.5.107 in /usr/local/lib/python3.10/dist-packages (from torch>=1.8.0->ultralytics) (11.4.5.107)\n",
            "Requirement already satisfied: nvidia-cusparse-cu12==12.1.0.106 in /usr/local/lib/python3.10/dist-packages (from torch>=1.8.0->ultralytics) (12.1.0.106)\n",
            "Requirement already satisfied: nvidia-nccl-cu12==2.19.3 in /usr/local/lib/python3.10/dist-packages (from torch>=1.8.0->ultralytics) (2.19.3)\n",
            "Requirement already satisfied: nvidia-nvtx-cu12==12.1.105 in /usr/local/lib/python3.10/dist-packages (from torch>=1.8.0->ultralytics) (12.1.105)\n",
            "Requirement already satisfied: triton==2.2.0 in /usr/local/lib/python3.10/dist-packages (from torch>=1.8.0->ultralytics) (2.2.0)\n",
            "Requirement already satisfied: nvidia-nvjitlink-cu12 in /usr/local/lib/python3.10/dist-packages (from nvidia-cusolver-cu12==11.4.5.107->torch>=1.8.0->ultralytics) (12.4.99)\n",
            "Requirement already satisfied: six in /usr/local/lib/python3.10/dist-packages (from cycler>=0.10->matplotlib>=3.3.0->ultralytics) (1.16.0)\n",
            "Requirement already satisfied: MarkupSafe>=2.0 in /usr/local/lib/python3.10/dist-packages (from jinja2->torch>=1.8.0->ultralytics) (2.1.5)\n",
            "Requirement already satisfied: mpmath>=0.19 in /usr/local/lib/python3.10/dist-packages (from sympy->torch>=1.8.0->ultralytics) (1.3.0)\n",
            "Installing collected packages: ultralytics\n",
            "Successfully installed ultralytics-8.1.34\n",
            "2024-03-27 14:40:32.050378: E external/local_xla/xla/stream_executor/cuda/cuda_dnn.cc:9261] Unable to register cuDNN factory: Attempting to register factory for plugin cuDNN when one has already been registered\n",
            "2024-03-27 14:40:32.050470: E external/local_xla/xla/stream_executor/cuda/cuda_fft.cc:607] Unable to register cuFFT factory: Attempting to register factory for plugin cuFFT when one has already been registered\n",
            "2024-03-27 14:40:32.052426: E external/local_xla/xla/stream_executor/cuda/cuda_blas.cc:1515] Unable to register cuBLAS factory: Attempting to register factory for plugin cuBLAS when one has already been registered\n",
            "\u001b[31m\u001b[1mrequirements:\u001b[0m Ultralytics requirement ['gitpython'] not found, attempting AutoUpdate...\n",
            "Collecting gitpython\n",
            "  Downloading GitPython-3.1.42-py3-none-any.whl (195 kB)\n",
            "     ━━━━━━━━━━━━━━━━━━━━━━━━━━━━━━━━━━━━━━━━ 195.4/195.4 kB 3.5 MB/s eta 0:00:00\n",
            "Collecting gitdb<5,>=4.0.1 (from gitpython)\n",
            "  Downloading gitdb-4.0.11-py3-none-any.whl (62 kB)\n",
            "     ━━━━━━━━━━━━━━━━━━━━━━━━━━━━━━━━━━━━━━━━ 62.7/62.7 kB 10.0 MB/s eta 0:00:00\n",
            "Collecting smmap<6,>=3.0.1 (from gitdb<5,>=4.0.1->gitpython)\n",
            "  Downloading smmap-5.0.1-py3-none-any.whl (24 kB)\n",
            "Installing collected packages: smmap, gitdb, gitpython\n",
            "Successfully installed gitdb-4.0.11 gitpython-3.1.42 smmap-5.0.1\n",
            "\n",
            "\u001b[31m\u001b[1mrequirements:\u001b[0m AutoUpdate success ✅ 7.6s, installed 1 package: ['gitpython']\n",
            "\u001b[31m\u001b[1mrequirements:\u001b[0m ⚠️ \u001b[1mRestart runtime or rerun command for updates to take effect\u001b[0m\n",
            "\n",
            "\u001b[34m\u001b[1mtrain: \u001b[0mweights=yolov5s.pt, cfg=./models/custom_yolov5s.yaml, data=/content/yolov5/Save-Your-Time-With-FloorVision-4/data.yaml, hyp=data/hyps/hyp.scratch-low.yaml, epochs=100, batch_size=16, imgsz=500, rect=False, resume=False, nosave=False, noval=False, noautoanchor=False, noplots=False, evolve=None, evolve_population=data/hyps, resume_evolve=None, bucket=, cache=ram, image_weights=False, device=, multi_scale=False, single_cls=False, optimizer=SGD, sync_bn=False, workers=8, project=runs/train, name=yolov5s_results, exist_ok=False, quad=False, cos_lr=False, label_smoothing=0.0, patience=100, freeze=[0], save_period=-1, seed=0, local_rank=-1, entity=None, upload_dataset=False, bbox_interval=-1, artifact_alias=latest, ndjson_console=False, ndjson_file=False\n",
            "\u001b[34m\u001b[1mgithub: \u001b[0mup to date with https://github.com/ultralytics/yolov5 ✅\n",
            "YOLOv5 🚀 v7.0-295-gac6c4383 Python-3.10.12 torch-2.2.1+cu121 CPU\n",
            "\n",
            "\u001b[34m\u001b[1mhyperparameters: \u001b[0mlr0=0.01, lrf=0.01, momentum=0.937, weight_decay=0.0005, warmup_epochs=3.0, warmup_momentum=0.8, warmup_bias_lr=0.1, box=0.05, cls=0.5, cls_pw=1.0, obj=1.0, obj_pw=1.0, iou_t=0.2, anchor_t=4.0, fl_gamma=0.0, hsv_h=0.015, hsv_s=0.7, hsv_v=0.4, degrees=0.0, translate=0.1, scale=0.5, shear=0.0, perspective=0.0, flipud=0.0, fliplr=0.5, mosaic=1.0, mixup=0.0, copy_paste=0.0\n",
            "\u001b[34m\u001b[1mComet: \u001b[0mrun 'pip install comet_ml' to automatically track and visualize YOLOv5 🚀 runs in Comet\n",
            "\u001b[34m\u001b[1mTensorBoard: \u001b[0mStart with 'tensorboard --logdir runs/train', view at http://localhost:6006/\n",
            "Downloading https://ultralytics.com/assets/Arial.ttf to /root/.config/Ultralytics/Arial.ttf...\n",
            "100% 755k/755k [00:00<00:00, 12.9MB/s]\n",
            "Downloading https://github.com/ultralytics/yolov5/releases/download/v7.0/yolov5s.pt to yolov5s.pt...\n",
            "100% 14.1M/14.1M [00:00<00:00, 99.6MB/s]\n",
            "\n",
            "\n",
            "                 from  n    params  module                                  arguments                     \n",
            "  0                -1  1      3520  models.common.Focus                     [3, 32, 3]                    \n",
            "  1                -1  1     18560  models.common.Conv                      [32, 64, 3, 2]                \n",
            "  2                -1  1     19904  models.common.BottleneckCSP             [64, 64, 1]                   \n",
            "  3                -1  1     73984  models.common.Conv                      [64, 128, 3, 2]               \n",
            "  4                -1  3    161152  models.common.BottleneckCSP             [128, 128, 3]                 \n",
            "  5                -1  1    295424  models.common.Conv                      [128, 256, 3, 2]              \n",
            "  6                -1  3    641792  models.common.BottleneckCSP             [256, 256, 3]                 \n",
            "  7                -1  1   1180672  models.common.Conv                      [256, 512, 3, 2]              \n",
            "  8                -1  1    656896  models.common.SPP                       [512, 512, [5, 9, 13]]        \n",
            "  9                -1  1   1248768  models.common.BottleneckCSP             [512, 512, 1, False]          \n",
            " 10                -1  1    131584  models.common.Conv                      [512, 256, 1, 1]              \n",
            " 11                -1  1         0  torch.nn.modules.upsampling.Upsample    [None, 2, 'nearest']          \n",
            " 12           [-1, 6]  1         0  models.common.Concat                    [1]                           \n",
            " 13                -1  1    378624  models.common.BottleneckCSP             [512, 256, 1, False]          \n",
            " 14                -1  1     33024  models.common.Conv                      [256, 128, 1, 1]              \n",
            " 15                -1  1         0  torch.nn.modules.upsampling.Upsample    [None, 2, 'nearest']          \n",
            " 16           [-1, 4]  1         0  models.common.Concat                    [1]                           \n",
            " 17                -1  1     95104  models.common.BottleneckCSP             [256, 128, 1, False]          \n",
            " 18                -1  1    147712  models.common.Conv                      [128, 128, 3, 2]              \n",
            " 19          [-1, 14]  1         0  models.common.Concat                    [1]                           \n",
            " 20                -1  1    313088  models.common.BottleneckCSP             [256, 256, 1, False]          \n",
            " 21                -1  1    590336  models.common.Conv                      [256, 256, 3, 2]              \n",
            " 22          [-1, 10]  1         0  models.common.Concat                    [1]                           \n",
            " 23                -1  1   1248768  models.common.BottleneckCSP             [512, 512, 1, False]          \n",
            " 24      [17, 20, 23]  1     21576  models.yolo.Detect                      [3, [[10, 13, 16, 30, 33, 23], [30, 61, 62, 45, 59, 119], [116, 90, 156, 198, 373, 326]], [128, 256, 512]]\n",
            "custom_YOLOv5s summary: 233 layers, 7260488 parameters, 7260488 gradients\n",
            "\n",
            "Transferred 223/369 items from yolov5s.pt\n",
            "WARNING ⚠️ --img-size 500 must be multiple of max stride 32, updating to 512\n",
            "\u001b[34m\u001b[1moptimizer:\u001b[0m SGD(lr=0.01) with parameter groups 59 weight(decay=0.0), 70 weight(decay=0.0005), 62 bias\n",
            "\u001b[34m\u001b[1malbumentations: \u001b[0mBlur(p=0.01, blur_limit=(3, 7)), MedianBlur(p=0.01, blur_limit=(3, 7)), ToGray(p=0.01), CLAHE(p=0.01, clip_limit=(1, 4.0), tile_grid_size=(8, 8))\n",
            "\u001b[34m\u001b[1mtrain: \u001b[0mScanning /content/yolov5/Save-Your-Time-With-FloorVision-4/train/labels... 784 images, 1 backgrounds, 0 corrupt: 100% 784/784 [00:00<00:00, 1280.56it/s]\n",
            "\u001b[34m\u001b[1mtrain: \u001b[0mNew cache created: /content/yolov5/Save-Your-Time-With-FloorVision-4/train/labels.cache\n",
            "\u001b[34m\u001b[1mtrain: \u001b[0mCaching images (0.6GB ram): 100% 784/784 [00:04<00:00, 169.98it/s]\n",
            "\u001b[34m\u001b[1mval: \u001b[0mScanning /content/yolov5/Save-Your-Time-With-FloorVision-4/valid/labels... 53 images, 0 backgrounds, 0 corrupt: 100% 53/53 [00:00<00:00, 376.81it/s]\n",
            "\u001b[34m\u001b[1mval: \u001b[0mNew cache created: /content/yolov5/Save-Your-Time-With-FloorVision-4/valid/labels.cache\n",
            "\u001b[34m\u001b[1mval: \u001b[0mCaching images (0.0GB ram): 100% 53/53 [00:00<00:00, 104.51it/s]\n",
            "\n",
            "\u001b[34m\u001b[1mAutoAnchor: \u001b[0m4.36 anchors/target, 1.000 Best Possible Recall (BPR). Current anchors are a good fit to dataset ✅\n",
            "Plotting labels to runs/train/yolov5s_results/labels.jpg... \n",
            "Image sizes 512 train, 512 val\n",
            "Using 2 dataloader workers\n",
            "Logging results to \u001b[1mruns/train/yolov5s_results\u001b[0m\n",
            "Starting training for 100 epochs...\n",
            "\n",
            "      Epoch    GPU_mem   box_loss   obj_loss   cls_loss  Instances       Size\n",
            "       0/99         0G     0.1095    0.03702    0.03796         78        512:   0% 0/49 [00:22<?, ?it/s]WARNING ⚠️ TensorBoard graph visualization failure Sizes of tensors must match except in dimension 1. Expected size 64 but got size 63 for tensor number 1 in the list.\n",
            "       0/99         0G    0.09908    0.03555    0.03701         61        512: 100% 49/49 [14:21<00:00, 17.57s/it]\n",
            "                 Class     Images  Instances          P          R      mAP50   mAP50-95:   0% 0/2 [00:00<?, ?it/s]WARNING ⚠️ NMS time limit 2.100s exceeded\n",
            "                 Class     Images  Instances          P          R      mAP50   mAP50-95:  50% 1/2 [00:14<00:14, 14.68s/it]WARNING ⚠️ NMS time limit 1.550s exceeded\n",
            "                 Class     Images  Instances          P          R      mAP50   mAP50-95: 100% 2/2 [00:24<00:00, 12.11s/it]\n",
            "                   all         53        129   0.000427      0.102   0.000497    6.5e-05\n",
            "\n",
            "      Epoch    GPU_mem   box_loss   obj_loss   cls_loss  Instances       Size\n",
            "       1/99         0G    0.08353    0.03895    0.03313         64        512: 100% 49/49 [14:30<00:00, 17.76s/it]\n",
            "                 Class     Images  Instances          P          R      mAP50   mAP50-95: 100% 2/2 [00:23<00:00, 11.56s/it]\n",
            "                   all         53        129    0.00445      0.552     0.0946      0.025\n",
            "\n",
            "      Epoch    GPU_mem   box_loss   obj_loss   cls_loss  Instances       Size\n",
            "       2/99         0G    0.07197     0.0381    0.02796         72        512: 100% 49/49 [14:17<00:00, 17.51s/it]\n",
            "                 Class     Images  Instances          P          R      mAP50   mAP50-95: 100% 2/2 [00:22<00:00, 11.49s/it]\n",
            "                   all         53        129       0.41      0.248      0.132     0.0439\n",
            "\n",
            "      Epoch    GPU_mem   box_loss   obj_loss   cls_loss  Instances       Size\n",
            "       3/99         0G    0.06709    0.03542    0.02407         69        512: 100% 49/49 [14:04<00:00, 17.24s/it]\n",
            "                 Class     Images  Instances          P          R      mAP50   mAP50-95:   0% 0/2 [00:00<?, ?it/s]WARNING ⚠️ NMS time limit 2.100s exceeded\n",
            "                 Class     Images  Instances          P          R      mAP50   mAP50-95: 100% 2/2 [00:25<00:00, 12.71s/it]\n",
            "                   all         53        129      0.546      0.346       0.22     0.0633\n",
            "\n",
            "      Epoch    GPU_mem   box_loss   obj_loss   cls_loss  Instances       Size\n",
            "       4/99         0G    0.06136    0.03256    0.02215         90        512: 100% 49/49 [14:20<00:00, 17.57s/it]\n",
            "                 Class     Images  Instances          P          R      mAP50   mAP50-95: 100% 2/2 [00:22<00:00, 11.42s/it]\n",
            "                   all         53        129      0.303      0.541      0.277     0.0832\n",
            "\n",
            "      Epoch    GPU_mem   box_loss   obj_loss   cls_loss  Instances       Size\n",
            "       5/99         0G    0.05786      0.029    0.02041         67        512: 100% 49/49 [14:11<00:00, 17.38s/it]\n",
            "                 Class     Images  Instances          P          R      mAP50   mAP50-95: 100% 2/2 [00:22<00:00, 11.16s/it]\n",
            "                   all         53        129      0.226      0.705      0.319      0.126\n",
            "\n",
            "      Epoch    GPU_mem   box_loss   obj_loss   cls_loss  Instances       Size\n",
            "       6/99         0G    0.05492    0.02806    0.01895         59        512:  84% 41/49 [11:55<02:18, 17.34s/it]"
          ]
        }
      ]
    }
  ]
}